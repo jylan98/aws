{
 "cells": [
  {
   "cell_type": "markdown",
   "metadata": {},
   "source": [
    "# Getting Started with AWS"
   ]
  },
  {
   "cell_type": "markdown",
   "metadata": {},
   "source": [
    "## Helpful Links\n",
    "https://uscms.org/uscms_at_work/physics/computing/getstarted/uaf.shtml\n",
    "\n",
    "https://github.com/Xilinx/ml-suite"
   ]
  },
  {
   "cell_type": "markdown",
   "metadata": {},
   "source": [
    "## Setup\n",
    "\n",
    "After getting a FNAL account, contact Burt on Slack (cms-aws-ml channel) to setup AWS and create a F1 instance with the ML Suite AMI."
   ]
  },
  {
   "cell_type": "markdown",
   "metadata": {},
   "source": [
    "## Test Classification\n",
    "\n",
    "Follow the examples to run an inference on a single image \"dog.jpg\". Specify to run the inference using ResNet50.\n",
    "\n",
    "https://github.com/Xilinx/ml-suite/blob/master/examples/deployment_modes/README.md\n",
    "\n",
    "Note: Make sure to update to the latest version of the ML suite repo.\n",
    "\n",
    "    git fetch --all\n",
    "    git reset --hard origin/master\n",
    "    git pull origin master\n",
    "    \n",
    "Activate ml-suite before running the examples.\n",
    "\n",
    "    sudo su\n",
    "    source /home/centos/ml-suite/overlaybins/setup.sh aws\n",
    "    source ~centos/.bashrc\n",
    "    source activate ml-suite"
   ]
  },
  {
   "attachments": {},
   "cell_type": "markdown",
   "metadata": {},
   "source": [
    "## Streaming Classification\n",
    "One time setup: Download a set of images using Collective Knowledge (CK). \n",
    "\n",
    "https://github.com/Xilinx/ml-suite/tree/master/examples/caffe\n",
    "\n",
    "Run streaming image classification using the same script as above, but specifying streaming_classify as the test.\n",
    "\n",
    "Measure the latency for a single image and for a bunch of images using Resnet50 1,5,10,100,500,1000.\n",
    "\n",
    "To view the end-to-end latency, run:\n",
    "\n",
    "    ./run.sh -t streaming_classify_fpgaonly -m resnet50 -c autoAllOpt -d /home/centos/CK-TOOLS/dataset-imagenet-ilsvrc2012-val-min -x -v | python $MLSUITE_ROOT/xfdnn/rt/scripts/speedometer.py\n",
    "    \n",
    "To exit the streaming report view, press CTRL-Z and type kill -9 %%\n",
    "\n",
    "### Results  \n",
    "| Number of Images | Latency (ms) |\n",
    "| --- | --- |\n",
    "| 1 | 3.70 |\n",
    "| 5 | 5.33 |\n",
    "| 10 | 12.84 |\n",
    "| 100 | 14.27 |\n",
    "| 500 | 15.02 |\n",
    "| 1000 | 19.80 |"
   ]
  },
  {
   "cell_type": "markdown",
   "metadata": {},
   "source": [
    "## DeepDetect REST\n",
    "Follow the tutorial to launch DeepDetect.\n",
    "\n",
    "https://github.com/Xilinx/ml-suite/blob/v1.3/docs/tutorials/deepdetect_rest.md"
   ]
  }
 ],
 "metadata": {
  "kernelspec": {
   "display_name": "Python 3",
   "language": "python",
   "name": "python3"
  },
  "language_info": {
   "codemirror_mode": {
    "name": "ipython",
    "version": 3
   },
   "file_extension": ".py",
   "mimetype": "text/x-python",
   "name": "python",
   "nbconvert_exporter": "python",
   "pygments_lexer": "ipython3",
   "version": "3.7.1"
  }
 },
 "nbformat": 4,
 "nbformat_minor": 2
}
